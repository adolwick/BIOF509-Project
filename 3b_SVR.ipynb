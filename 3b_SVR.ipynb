{
 "cells": [
  {
   "cell_type": "markdown",
   "metadata": {},
   "source": [
    "# 3b. Support Vector Regressor\n",
    "\n",
    "We can now load either our PCA data or our UMAP data and use supervised learning algorithms to predict our outcome variable using the scaled and reduced data. I have created two separate files for this step, differing on which algorithm they use (Random Forest Regressor vs. Support Vector Regressor). These are designed to work completely separate from one another, and only running one of the two is necessary, but it is helpful to run both and compare them."
   ]
  },
  {
   "cell_type": "code",
   "execution_count": 21,
   "metadata": {},
   "outputs": [],
   "source": [
    "import numpy as np\n",
    "import pandas as pd\n",
    "from sklearn.svm import SVR\n",
    "from sklearn.model_selection import train_test_split\n",
    "from sklearn.model_selection import KFold\n",
    "from sklearn.model_selection import cross_val_score\n",
    "from sklearn.model_selection import cross_val_predict"
   ]
  },
  {
   "cell_type": "code",
   "execution_count": 22,
   "metadata": {},
   "outputs": [],
   "source": [
    "class SVregressor:\n",
    "    \n",
    "    '''\n",
    "        INIT FUNCTION:\n",
    "        \n",
    "        -- This __init__ function is slightly different from the ones used in KNN Imputation, PCA, and UMAP.\n",
    "        \n",
    "        -- In addition to specifying \"IDs\", specify an outcome variable to predict. \"IDs\" should still include this variable.\n",
    "        \n",
    "        -- self.X is an array containing all the data except the IDs; self.y is an array of the values of the outcome variable.\n",
    "    '''\n",
    "    \n",
    "    def __init__(self, datafile, outcome, IDs = []):\n",
    "        self.df = pd.read_csv(datafile)\n",
    "        self.X = np.array(self.df.drop(IDs, 1))\n",
    "        self.y = np.array(self.df[outcome])\n",
    "        self.Xdf = pd.DataFrame(self.X)\n",
    "        self.ydf = pd.DataFrame(self.y)\n",
    "        \n",
    "    '''\n",
    "        REGRESS METHOD:\n",
    "        \n",
    "        --Specify a kernel, a scoring method, and a number of folds for cross-validation.\n",
    "        \n",
    "        --self.predictions outputs predicted values; self-scores outputs specified metrics of model performance.\n",
    "    '''    \n",
    "    \n",
    "    def regress(self, kernel, scoring, cv=[]):\n",
    "        self.svr_model = SVR(kernel=kernel)\n",
    "        self.predictions = cross_val_predict(self.svr_model, self.X, self.y, cv=cv)\n",
    "        self.scores = cross_val_score(self.svr_model, self.X, self.y, cv=cv, scoring=scoring)\n",
    "        print(self.scores)"
   ]
  },
  {
   "cell_type": "code",
   "execution_count": 40,
   "metadata": {},
   "outputs": [],
   "source": [
    "def avg(lst): \n",
    "    return sum(lst) / len(lst)"
   ]
  },
  {
   "cell_type": "code",
   "execution_count": 23,
   "metadata": {},
   "outputs": [],
   "source": [
    "#Linear kernel\n",
    "#Inputting PCA data for this example\n",
    "#Outcome variable is presence, IDs are presence and labvisitid\n",
    "linear = SVregressor(\"SCALED_PCA_DATA.csv\", 'presence', IDs = ['labvisitid', 'presence'])"
   ]
  },
  {
   "cell_type": "code",
   "execution_count": 37,
   "metadata": {},
   "outputs": [
    {
     "name": "stdout",
     "output_type": "stream",
     "text": [
      "[-0.75750606 -0.93750831 -0.70761028 -0.81994488 -0.76403244]\n"
     ]
    }
   ],
   "source": [
    "#Outputting (negative) root mean squared error\n",
    "#For some reason, sklearn outputs negative values for mean squared error and some related metrics,...\n",
    "#...so they changed the name to 'neg_root_mean_squared_error'\n",
    "linear.regress('linear','neg_root_mean_squared_error', cv=5)\n",
    "linear_RMSE = linear.scores"
   ]
  },
  {
   "cell_type": "code",
   "execution_count": 29,
   "metadata": {},
   "outputs": [],
   "source": [
    "#RBF kernel\n",
    "rbf = SVregressor(\"SCALED_PCA_DATA.csv\", 'presence', IDs = ['labvisitid', 'presence'])"
   ]
  },
  {
   "cell_type": "code",
   "execution_count": 36,
   "metadata": {},
   "outputs": [
    {
     "name": "stdout",
     "output_type": "stream",
     "text": [
      "[-0.79357557 -0.83623336 -0.70359135 -0.74795484 -0.75423522]\n"
     ]
    }
   ],
   "source": [
    "#Outputting (negative) root mean squared error\n",
    "rbf.regress('rbf', 'neg_root_mean_squared_error', cv=5)\n",
    "rbf_RMSE = rbf.scores"
   ]
  },
  {
   "cell_type": "code",
   "execution_count": 31,
   "metadata": {},
   "outputs": [
    {
     "name": "stdout",
     "output_type": "stream",
     "text": [
      "Linear: [-0.75750606 -0.93750831 -0.70761028 -0.81994488 -0.76403244]\n",
      "RBF: [-0.79357557 -0.83623336 -0.70359135 -0.74795484 -0.75423522]\n"
     ]
    }
   ],
   "source": [
    "#Comparing scores of (negative) root mean squared error from both kernels\n",
    "#The RBF kernel performs better on average\n",
    "print(\"Linear:\", linear.scores)\n",
    "print(\"RBF:\", rbf.scores)"
   ]
  },
  {
   "cell_type": "code",
   "execution_count": 38,
   "metadata": {},
   "outputs": [
    {
     "name": "stdout",
     "output_type": "stream",
     "text": [
      "[-0.32383179 -0.70649201 -0.04977441 -0.07504883 -0.2217531 ]\n",
      "[-0.45290479 -0.35771615 -0.03788374  0.10543968 -0.1906208 ]\n"
     ]
    }
   ],
   "source": [
    "#Same thing but with different scoring method\n",
    "linear.regress('linear','r2', cv=5)\n",
    "linear_R2 = linear.scores\n",
    "rbf.regress('rbf', 'r2', cv=5)\n",
    "rbf_R2 = rbf.scores"
   ]
  },
  {
   "cell_type": "code",
   "execution_count": 35,
   "metadata": {},
   "outputs": [
    {
     "name": "stdout",
     "output_type": "stream",
     "text": [
      "Linear: [-0.32383179 -0.70649201 -0.04977441 -0.07504883 -0.2217531 ]\n",
      "RBF: [-0.45290479 -0.35771615 -0.03788374  0.10543968 -0.1906208 ]\n"
     ]
    }
   ],
   "source": [
    "#Comparing scores of (negative) R^2 from both kernels\n",
    "#The RBF kernel performs better on average\n",
    "print(\"Linear:\", linear.scores)\n",
    "print(\"RBF:\", rbf.scores)"
   ]
  },
  {
   "cell_type": "code",
   "execution_count": 39,
   "metadata": {},
   "outputs": [
    {
     "name": "stdout",
     "output_type": "stream",
     "text": [
      "Linear RMSE: [-0.75750606 -0.93750831 -0.70761028 -0.81994488 -0.76403244]\n",
      "RBF RMSE: [-0.79357557 -0.83623336 -0.70359135 -0.74795484 -0.75423522]\n",
      "Linear R^2: [-0.32383179 -0.70649201 -0.04977441 -0.07504883 -0.2217531 ]\n",
      "RBF R^2: [-0.45290479 -0.35771615 -0.03788374  0.10543968 -0.1906208 ]\n"
     ]
    }
   ],
   "source": [
    "print(\"Linear RMSE:\", linear_RMSE)\n",
    "print(\"RBF RMSE:\", rbf_RMSE)\n",
    "print(\"Linear R^2:\", linear_R2)\n",
    "print(\"RBF R^2:\", rbf_R2)"
   ]
  },
  {
   "cell_type": "code",
   "execution_count": 41,
   "metadata": {},
   "outputs": [],
   "source": [
    "linRMSEavg = avg(linear_RMSE)\n",
    "rbfRMSEavg = avg(rbf_RMSE)\n",
    "linR2avg = avg(linear_R2)\n",
    "rbfR2avg = avg(rbf_R2)"
   ]
  },
  {
   "cell_type": "code",
   "execution_count": 42,
   "metadata": {},
   "outputs": [
    {
     "name": "stdout",
     "output_type": "stream",
     "text": [
      "Average linear RMSE: -0.7973203947974418\n",
      "Average linear R^2: -0.27538002924021543\n",
      "Average RBF RMSE: -0.7671180684617258\n",
      "Average RBF R^2: -0.18673716034307558\n"
     ]
    }
   ],
   "source": [
    "print(\"Average linear RMSE:\", linRMSEavg)\n",
    "print(\"Average linear R^2:\", linR2avg)\n",
    "print(\"Average RBF RMSE:\", rbfRMSEavg)\n",
    "print(\"Average RBF R^2:\", rbfR2avg)"
   ]
  },
  {
   "cell_type": "code",
   "execution_count": null,
   "metadata": {},
   "outputs": [],
   "source": []
  }
 ],
 "metadata": {
  "kernelspec": {
   "display_name": "Python 3",
   "language": "python",
   "name": "python3"
  },
  "language_info": {
   "codemirror_mode": {
    "name": "ipython",
    "version": 3
   },
   "file_extension": ".py",
   "mimetype": "text/x-python",
   "name": "python",
   "nbconvert_exporter": "python",
   "pygments_lexer": "ipython3",
   "version": "3.7.3"
  }
 },
 "nbformat": 4,
 "nbformat_minor": 4
}

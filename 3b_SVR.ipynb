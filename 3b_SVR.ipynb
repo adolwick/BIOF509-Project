{
 "cells": [
  {
   "cell_type": "code",
   "execution_count": 1,
   "metadata": {},
   "outputs": [],
   "source": [
    "import numpy as np\n",
    "import pandas as pd\n",
    "from sklearn.svm import SVR\n",
    "from sklearn.model_selection import train_test_split\n",
    "from sklearn.model_selection import KFold\n",
    "from sklearn.model_selection import cross_val_score\n",
    "from sklearn.model_selection import cross_val_predict"
   ]
  },
  {
   "cell_type": "code",
   "execution_count": 2,
   "metadata": {},
   "outputs": [],
   "source": [
    "class SVregressor:\n",
    "    \n",
    "    def __init__(self, datafile, outcome, nonfeatures = []):\n",
    "        self.df = pd.read_csv(datafile)\n",
    "        self.X = np.array(self.df.drop(nonfeatures, 1))\n",
    "        self.y = np.array(self.df[outcome])\n",
    "        self.Xdf = pd.DataFrame(self.X)\n",
    "        self.ydf = pd.DataFrame(self.y)\n",
    "    \n",
    "    def regress(self, kernel, scoring, cv=[]):\n",
    "        self.svr_model = SVR(kernel=kernel)\n",
    "        self.predictions = cross_val_predict(self.svr_model, self.X, self.y, cv=cv)\n",
    "        self.scores = cross_val_score(self.svr_model, self.X, self.y, cv=cv, scoring=scoring)\n",
    "        print(self.scores)"
   ]
  },
  {
   "cell_type": "code",
   "execution_count": 8,
   "metadata": {},
   "outputs": [],
   "source": [
    "linear = SVregressor(\"SCALED_PCA_DATA.csv\", 'presence', nonfeatures = ['labvisitid', 'presence'])"
   ]
  },
  {
   "cell_type": "code",
   "execution_count": 9,
   "metadata": {},
   "outputs": [
    {
     "name": "stdout",
     "output_type": "stream",
     "text": [
      "[-0.69518205 -0.69666293 -0.55010262 -0.86051764 -0.64799363]\n"
     ]
    }
   ],
   "source": [
    "linear.regress('linear','neg_mean_squared_error', cv=5)"
   ]
  },
  {
   "cell_type": "code",
   "execution_count": 10,
   "metadata": {},
   "outputs": [],
   "source": [
    "rbf = SVregressor(\"SCALED_PCA_DATA.csv\", 'presence', nonfeatures = ['labvisitid', 'presence'])"
   ]
  },
  {
   "cell_type": "code",
   "execution_count": 11,
   "metadata": {},
   "outputs": [
    {
     "name": "stdout",
     "output_type": "stream",
     "text": [
      "[-0.53530418 -0.6202913  -0.41289752 -0.68529413 -0.51520174]\n"
     ]
    }
   ],
   "source": [
    "rbf.regress('rbf', 'neg_mean_squared_error', cv=5)"
   ]
  }
 ],
 "metadata": {
  "kernelspec": {
   "display_name": "Python 3",
   "language": "python",
   "name": "python3"
  },
  "language_info": {
   "codemirror_mode": {
    "name": "ipython",
    "version": 3
   },
   "file_extension": ".py",
   "mimetype": "text/x-python",
   "name": "python",
   "nbconvert_exporter": "python",
   "pygments_lexer": "ipython3",
   "version": "3.7.3"
  }
 },
 "nbformat": 4,
 "nbformat_minor": 4
}

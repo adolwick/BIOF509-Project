{
 "cells": [
  {
   "cell_type": "code",
   "execution_count": 1,
   "metadata": {},
   "outputs": [],
   "source": [
    "import numpy as np\n",
    "import pandas as pd\n",
    "from sklearn.svm import SVR\n",
    "from sklearn.model_selection import train_test_split\n",
    "from sklearn.model_selection import KFold\n",
    "from sklearn.model_selection import cross_val_score\n",
    "from sklearn.model_selection import cross_val_predict"
   ]
  },
  {
   "cell_type": "code",
   "execution_count": 12,
   "metadata": {},
   "outputs": [],
   "source": [
    "class SVregressor:\n",
    "    \n",
    "    def __init__(self, datafile, outcome, nonfeatures = []):\n",
    "        self.df = pd.read_csv(datafile)\n",
    "        self.X = np.array(self.df.drop(nonfeatures, 1))\n",
    "        self.y = np.array(self.df[outcome])\n",
    "        self.Xdf = pd.DataFrame(self.X)\n",
    "        self.ydf = pd.DataFrame(self.y)\n",
    "    \n",
    "    def regress(self, kernel, scoring, cv=[]):\n",
    "        self.svr_model = SVR(kernel=kernel)\n",
    "        self.predictions = cross_val_predict(self.svr_model, self.X, self.y, cv=cv)\n",
    "        self.scores = cross_val_score(self.svr_model, self.X, self.y, cv=cv, scoring=scoring)\n",
    "        print(self.scores)"
   ]
  },
  {
   "cell_type": "code",
   "execution_count": 21,
   "metadata": {},
   "outputs": [],
   "source": [
    "linear = SVregressor(\"SCALED_PCA_DATA.csv\", 'presence', nonfeatures = ['labvisitid', 'presence'])"
   ]
  },
  {
   "cell_type": "code",
   "execution_count": 17,
   "metadata": {},
   "outputs": [
    {
     "name": "stdout",
     "output_type": "stream",
     "text": [
      "[-1.17106326 -1.37448384 -1.07034517 -1.17167448 -1.16185517]\n"
     ]
    }
   ],
   "source": [
    "linear.regress('linear','neg_root_mean_squared_error', cv=5)"
   ]
  },
  {
   "cell_type": "code",
   "execution_count": 18,
   "metadata": {},
   "outputs": [],
   "source": [
    "rbf = SVregressor(\"SCALED_PCA_DATA.csv\", 'presence', nonfeatures = ['labvisitid', 'presence'])"
   ]
  },
  {
   "cell_type": "code",
   "execution_count": 19,
   "metadata": {},
   "outputs": [
    {
     "name": "stdout",
     "output_type": "stream",
     "text": [
      "[-0.7806677  -0.79119686 -0.67538941 -0.81204215 -0.72430155]\n"
     ]
    }
   ],
   "source": [
    "rbf.regress('rbf', 'neg_root_mean_squared_error', cv=5)"
   ]
  },
  {
   "cell_type": "code",
   "execution_count": null,
   "metadata": {},
   "outputs": [],
   "source": [
    "\n",
    "\n",
    "pd.Series(abs(svm.coef_[0]), index=features.columns).nlargest(10).plot(kind='barh')"
   ]
  }
 ],
 "metadata": {
  "kernelspec": {
   "display_name": "Python 3",
   "language": "python",
   "name": "python3"
  },
  "language_info": {
   "codemirror_mode": {
    "name": "ipython",
    "version": 3
   },
   "file_extension": ".py",
   "mimetype": "text/x-python",
   "name": "python",
   "nbconvert_exporter": "python",
   "pygments_lexer": "ipython3",
   "version": "3.7.3"
  }
 },
 "nbformat": 4,
 "nbformat_minor": 4
}

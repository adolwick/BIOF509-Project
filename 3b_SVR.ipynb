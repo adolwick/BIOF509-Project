{
 "cells": [
  {
   "cell_type": "code",
   "execution_count": 1,
   "metadata": {},
   "outputs": [],
   "source": [
    "import numpy as np\n",
    "import pandas as pd\n",
    "from sklearn.svm import SVR\n",
    "from sklearn.model_selection import train_test_split\n",
    "from sklearn.model_selection import KFold\n",
    "from sklearn.model_selection import cross_val_score\n",
    "from sklearn.model_selection import cross_val_predict"
   ]
  },
  {
   "cell_type": "code",
   "execution_count": 2,
   "metadata": {},
   "outputs": [],
   "source": [
    "class SVregressor:\n",
    "    \n",
    "    def __init__(self, datafile, outcome, nonfeatures = []):\n",
    "        self.df = pd.read_csv(datafile)\n",
    "        self.X = np.array(self.df.drop(nonfeatures, 1))\n",
    "        self.y = np.array(self.df[outcome])\n",
    "        self.Xdf = pd.DataFrame(self.X)\n",
    "        self.ydf = pd.DataFrame(self.y)\n",
    "    \n",
    "    def regress(self, kernel, scoring, cv=[]):\n",
    "        self.svr_model = SVR(kernel=kernel)\n",
    "        self.predictions = cross_val_predict(self.svr_model, self.X, self.y, cv=cv)\n",
    "        self.scores = cross_val_score(self.svr_model, self.X, self.y, cv=cv, scoring=scoring)\n",
    "        print(self.scores)"
   ]
  },
  {
   "cell_type": "code",
   "execution_count": 3,
   "metadata": {},
   "outputs": [],
   "source": [
    "linear = SVregressor(\"SCALED_PCA_DATA.csv\", 'presence', nonfeatures = ['labvisitid', 'presence'])"
   ]
  },
  {
   "cell_type": "code",
   "execution_count": 4,
   "metadata": {},
   "outputs": [
    {
     "name": "stdout",
     "output_type": "stream",
     "text": [
      "[-0.83377578 -0.83466336 -0.74168903 -0.9276409  -0.80498051]\n"
     ]
    }
   ],
   "source": [
    "linear.regress('linear','neg_root_mean_squared_error', cv=5)"
   ]
  },
  {
   "cell_type": "code",
   "execution_count": 5,
   "metadata": {},
   "outputs": [],
   "source": [
    "rbf = SVregressor(\"SCALED_PCA_DATA.csv\", 'presence', nonfeatures = ['labvisitid', 'presence'])"
   ]
  },
  {
   "cell_type": "code",
   "execution_count": 6,
   "metadata": {},
   "outputs": [
    {
     "name": "stdout",
     "output_type": "stream",
     "text": [
      "[-0.73164485 -0.78758574 -0.64257102 -0.82782494 -0.71777555]\n"
     ]
    }
   ],
   "source": [
    "rbf.regress('rbf', 'neg_root_mean_squared_error', cv=5)"
   ]
  }
 ],
 "metadata": {
  "kernelspec": {
   "display_name": "Python 3",
   "language": "python",
   "name": "python3"
  },
  "language_info": {
   "codemirror_mode": {
    "name": "ipython",
    "version": 3
   },
   "file_extension": ".py",
   "mimetype": "text/x-python",
   "name": "python",
   "nbconvert_exporter": "python",
   "pygments_lexer": "ipython3",
   "version": "3.7.3"
  }
 },
 "nbformat": 4,
 "nbformat_minor": 4
}

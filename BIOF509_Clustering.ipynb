{
 "cells": [
  {
   "cell_type": "code",
   "execution_count": 1,
   "metadata": {},
   "outputs": [],
   "source": [
    "import numpy as np\n",
    "import pandas as pd\n",
    "import umap ###install with \"pip install umap-learn\"\n",
    "from sklearn.preprocessing import MinMaxScaler\n",
    "from sklearn.metrics import accuracy_score,confusion_matrix\n",
    "from sklearn.model_selection import StratifiedKFold\n",
    "from sklearn.svm import SVC\n",
    "from sklearn.cluster import AgglomerativeClustering\n",
    "import matplotlib.pyplot as plt\n",
    "import seaborn as sns ### install using pip install seaborn"
   ]
  },
  {
   "cell_type": "code",
   "execution_count": 28,
   "metadata": {},
   "outputs": [
    {
     "name": "stdout",
     "output_type": "stream",
     "text": [
      "     labvisitid     x_0.5       x_1     x_1.5       x_2     x_2.5       x_3  \\\n",
      "0             1 -0.032859 -0.048084 -0.097676 -0.138635 -0.146665 -0.070245   \n",
      "1             2  0.106513  0.076684  0.143966  0.249650  0.269067  0.198519   \n",
      "2             3  0.053312  0.052485  0.055687  0.076028  0.076897  0.064186   \n",
      "3             4 -0.010841 -0.007432 -0.016471  0.053747  0.145198  0.160172   \n",
      "4             5  0.104969  0.034937 -0.045508 -0.097222 -0.102852 -0.060920   \n",
      "..          ...       ...       ...       ...       ...       ...       ...   \n",
      "227        5006  0.153507  0.160137  0.168591  0.140064  0.086269  0.033719   \n",
      "228        5007 -0.026387 -0.019489 -0.002590 -0.002269 -0.003772 -0.008429   \n",
      "229        5008  0.458718  0.455789  0.492861  0.499983  0.520728  0.589518   \n",
      "230        5009 -0.012972 -0.022789 -0.056890 -0.024279  0.054629  0.023097   \n",
      "231        5010 -0.118002 -0.159074 -0.178903 -0.177739 -0.140099 -0.145551   \n",
      "\n",
      "        x_3.5       x_4     x_4.5  ...  z_458  z_458.5  z_459  z_459.5  z_460  \\\n",
      "0   -0.022794 -0.087254 -0.178089  ...    NaN      NaN    NaN      NaN    NaN   \n",
      "1    0.113609  0.011722 -0.047327  ...    NaN      NaN    NaN      NaN    NaN   \n",
      "2   -0.027215 -0.126451 -0.057155  ...    NaN      NaN    NaN      NaN    NaN   \n",
      "3    0.123307  0.053500  0.116628  ...    NaN      NaN    NaN      NaN    NaN   \n",
      "4   -0.011404 -0.008297 -0.049391  ...    NaN      NaN    NaN      NaN    NaN   \n",
      "..        ...       ...       ...  ...    ...      ...    ...      ...    ...   \n",
      "227 -0.049525  0.002492  0.076833  ...    NaN      NaN    NaN      NaN    NaN   \n",
      "228 -0.013112 -0.022201 -0.038729  ...    NaN      NaN    NaN      NaN    NaN   \n",
      "229  0.633131  0.673852  0.681097  ...    NaN      NaN    NaN      NaN    NaN   \n",
      "230 -0.042045 -0.012316  0.048926  ...    NaN      NaN    NaN      NaN    NaN   \n",
      "231 -0.153651 -0.120636 -0.128289  ...    NaN      NaN    NaN      NaN    NaN   \n",
      "\n",
      "     z_460.5  z_461  z_461.5  z_462  z_462.5  \n",
      "0        NaN    NaN      NaN    NaN      NaN  \n",
      "1        NaN    NaN      NaN    NaN      NaN  \n",
      "2        NaN    NaN      NaN    NaN      NaN  \n",
      "3        NaN    NaN      NaN    NaN      NaN  \n",
      "4        NaN    NaN      NaN    NaN      NaN  \n",
      "..       ...    ...      ...    ...      ...  \n",
      "227      NaN    NaN      NaN    NaN      NaN  \n",
      "228      NaN    NaN      NaN    NaN      NaN  \n",
      "229      NaN    NaN      NaN    NaN      NaN  \n",
      "230      NaN    NaN      NaN    NaN      NaN  \n",
      "231      NaN    NaN      NaN    NaN      NaN  \n",
      "\n",
      "[232 rows x 2776 columns]\n",
      "     labvisitid    yaw_0.5      yaw_1    yaw_1.5      yaw_2    yaw_2.5  \\\n",
      "0             1 -12.819052 -21.993694 -36.960159 -36.280998 -36.989056   \n",
      "1             2 -14.121522 -22.114445  15.133641  52.189201  61.190361   \n",
      "2             3   0.382742   0.378596   0.582055   5.480828   5.522862   \n",
      "3             4   9.441733   7.737449  14.775006  27.758444  26.661465   \n",
      "4             5  -0.114574 -15.798509 -32.600330 -48.695320 -54.353134   \n",
      "..          ...        ...        ...        ...        ...        ...   \n",
      "227        5006 -24.244835 -25.929424 -25.348288 -17.611212 -14.751836   \n",
      "228        5007   3.237774   4.138927   6.673186   6.806389   6.664309   \n",
      "229        5008  70.750038  72.706879  83.012749  89.776138  94.205040   \n",
      "230        5009   4.389607   3.897130   2.789073   4.830565   4.719046   \n",
      "231        5010 -23.766075 -31.166998 -36.654472 -38.068420 -31.277029   \n",
      "\n",
      "          yaw_3     yaw_3.5       yaw_4     yaw_4.5  ...  roll_458  \\\n",
      "0    -40.799503  -39.966045  -38.430420  -41.280598  ...       NaN   \n",
      "1     37.750393    3.129352  -30.364742  -48.514584  ...       NaN   \n",
      "2      4.240273   -3.308934   -8.018377  -10.804947  ...       NaN   \n",
      "3     24.432079   34.277348   43.001087   47.920403  ...       NaN   \n",
      "4    -48.824638  -43.988617  -50.774708  -51.948009  ...       NaN   \n",
      "..          ...         ...         ...         ...  ...       ...   \n",
      "227  -19.310373  -47.754852  -58.570721  -51.467587  ...       NaN   \n",
      "228    5.949316    4.489135    2.431851   -2.114394  ...       NaN   \n",
      "229  102.713608  114.070892  122.323708  125.613556  ...       NaN   \n",
      "230    5.551315    7.523494    6.217980    5.167467  ...       NaN   \n",
      "231  -34.355011  -39.970379  -37.741894  -39.706707  ...       NaN   \n",
      "\n",
      "     roll_458.5  roll_459  roll_459.5  roll_460  roll_460.5  roll_461  \\\n",
      "0           NaN       NaN         NaN       NaN         NaN       NaN   \n",
      "1           NaN       NaN         NaN       NaN         NaN       NaN   \n",
      "2           NaN       NaN         NaN       NaN         NaN       NaN   \n",
      "3           NaN       NaN         NaN       NaN         NaN       NaN   \n",
      "4           NaN       NaN         NaN       NaN         NaN       NaN   \n",
      "..          ...       ...         ...       ...         ...       ...   \n",
      "227         NaN       NaN         NaN       NaN         NaN       NaN   \n",
      "228         NaN       NaN         NaN       NaN         NaN       NaN   \n",
      "229         NaN       NaN         NaN       NaN         NaN       NaN   \n",
      "230         NaN       NaN         NaN       NaN         NaN       NaN   \n",
      "231         NaN       NaN         NaN       NaN         NaN       NaN   \n",
      "\n",
      "     roll_461.5  roll_462  roll_462.5  \n",
      "0           NaN       NaN         NaN  \n",
      "1           NaN       NaN         NaN  \n",
      "2           NaN       NaN         NaN  \n",
      "3           NaN       NaN         NaN  \n",
      "4           NaN       NaN         NaN  \n",
      "..          ...       ...         ...  \n",
      "227         NaN       NaN         NaN  \n",
      "228         NaN       NaN         NaN  \n",
      "229         NaN       NaN         NaN  \n",
      "230         NaN       NaN         NaN  \n",
      "231         NaN       NaN         NaN  \n",
      "\n",
      "[232 rows x 2776 columns]\n"
     ]
    }
   ],
   "source": [
    "pd.options.display.max_rows=10\n",
    "\n",
    "d = pd.read_csv(\"tidyVRtrackdata_13Apr2020.csv\")\n",
    "direction = pd.read_csv(\"DirectionData_1Dec20.csv\")\n",
    "rotation = pd.read_csv(\"RotationData_1Dec20.csv\")\n",
    "print(direction)\n",
    "print(rotation)"
   ]
  },
  {
   "cell_type": "code",
   "execution_count": 29,
   "metadata": {},
   "outputs": [
    {
     "name": "stdout",
     "output_type": "stream",
     "text": [
      "       yaw_0.5      yaw_1    yaw_1.5      yaw_2    yaw_2.5       yaw_3  \\\n",
      "0   -12.819052 -21.993694 -36.960159 -36.280998 -36.989056  -40.799503   \n",
      "1   -14.121522 -22.114445  15.133641  52.189201  61.190361   37.750393   \n",
      "2     0.382742   0.378596   0.582055   5.480828   5.522862    4.240273   \n",
      "3     9.441733   7.737449  14.775006  27.758444  26.661465   24.432079   \n",
      "4    -0.114574 -15.798509 -32.600330 -48.695320 -54.353134  -48.824638   \n",
      "..         ...        ...        ...        ...        ...         ...   \n",
      "227 -24.244835 -25.929424 -25.348288 -17.611212 -14.751836  -19.310373   \n",
      "228   3.237774   4.138927   6.673186   6.806389   6.664309    5.949316   \n",
      "229  70.750038  72.706879  83.012749  89.776138  94.205040  102.713608   \n",
      "230   4.389607   3.897130   2.789073   4.830565   4.719046    5.551315   \n",
      "231 -23.766075 -31.166998 -36.654472 -38.068420 -31.277029  -34.355011   \n",
      "\n",
      "        yaw_3.5       yaw_4     yaw_4.5       yaw_5  ...  roll_457.5  \\\n",
      "0    -39.966045  -38.430420  -41.280598  -51.827785  ...         NaN   \n",
      "1      3.129352  -30.364742  -48.514584  -54.835262  ...         NaN   \n",
      "2     -3.308934   -8.018377  -10.804947  -12.736897  ...         NaN   \n",
      "3     34.277348   43.001087   47.920403   42.707531  ...         NaN   \n",
      "4    -43.988617  -50.774708  -51.948009  -52.738380  ...         NaN   \n",
      "..          ...         ...         ...         ...  ...         ...   \n",
      "227  -47.754852  -58.570721  -51.467587  -42.779232  ...         NaN   \n",
      "228    4.489135    2.431851   -2.114394   -1.849251  ...         NaN   \n",
      "229  114.070892  122.323708  125.613556  139.220215  ...         NaN   \n",
      "230    7.523494    6.217980    5.167467    4.821136  ...         NaN   \n",
      "231  -39.970379  -37.741894  -39.706707  -27.892382  ...         NaN   \n",
      "\n",
      "     roll_458  roll_458.5  roll_459  roll_459.5  roll_460  roll_460.5  \\\n",
      "0         NaN         NaN       NaN         NaN       NaN         NaN   \n",
      "1         NaN         NaN       NaN         NaN       NaN         NaN   \n",
      "2         NaN         NaN       NaN         NaN       NaN         NaN   \n",
      "3         NaN         NaN       NaN         NaN       NaN         NaN   \n",
      "4         NaN         NaN       NaN         NaN       NaN         NaN   \n",
      "..        ...         ...       ...         ...       ...         ...   \n",
      "227       NaN         NaN       NaN         NaN       NaN         NaN   \n",
      "228       NaN         NaN       NaN         NaN       NaN         NaN   \n",
      "229       NaN         NaN       NaN         NaN       NaN         NaN   \n",
      "230       NaN         NaN       NaN         NaN       NaN         NaN   \n",
      "231       NaN         NaN       NaN         NaN       NaN         NaN   \n",
      "\n",
      "     roll_461  roll_461.5  roll_462  \n",
      "0         NaN         NaN       NaN  \n",
      "1         NaN         NaN       NaN  \n",
      "2         NaN         NaN       NaN  \n",
      "3         NaN         NaN       NaN  \n",
      "4         NaN         NaN       NaN  \n",
      "..        ...         ...       ...  \n",
      "227       NaN         NaN       NaN  \n",
      "228       NaN         NaN       NaN  \n",
      "229       NaN         NaN       NaN  \n",
      "230       NaN         NaN       NaN  \n",
      "231       NaN         NaN       NaN  \n",
      "\n",
      "[232 rows x 2774 columns]\n"
     ]
    }
   ],
   "source": [
    "rotation1 = rotation.iloc[:, 1:2775].copy()\n",
    "print(rotation1)"
   ]
  },
  {
   "cell_type": "code",
   "execution_count": 30,
   "metadata": {},
   "outputs": [
    {
     "name": "stdout",
     "output_type": "stream",
     "text": [
      "[[0.4244074  0.39814807 0.33181673 ...        nan        nan        nan]\n",
      " [0.41928916 0.39768673 0.52826746 ...        nan        nan        nan]\n",
      " [0.47628564 0.48362331 0.47339203 ...        nan        nan        nan]\n",
      " ...\n",
      " [0.75280351 0.75995968 0.7842461  ...        nan        nan        nan]\n",
      " [0.49203116 0.49706617 0.4817149  ...        nan        nan        nan]\n",
      " [0.38138958 0.36310068 0.3329695  ...        nan        nan        nan]]\n"
     ]
    }
   ],
   "source": [
    "rot_scaling = rotation1.values\n",
    "scaler = MinMaxScaler()\n",
    "rot_scaled = scaler.fit_transform(rot_scaling)\n",
    "print(rot_scaled)"
   ]
  },
  {
   "cell_type": "code",
   "execution_count": 48,
   "metadata": {},
   "outputs": [
    {
     "name": "stdout",
     "output_type": "stream",
     "text": [
      "         9         11        16        17        18        21        22    \\\n",
      "0    0.366791  0.367280  0.233643  0.206486  0.206039  0.327263  0.311014   \n",
      "1    0.356823  0.358809  0.294342  0.293812  0.296390  0.212569  0.211563   \n",
      "2    0.496354  0.493780  0.376695  0.384188  0.376729  0.312896  0.282058   \n",
      "3    0.680119  0.696518  0.637889  0.631789  0.630740  0.670843  0.679325   \n",
      "4    0.363773  0.368019  0.325465  0.346680  0.343359  0.313455  0.308263   \n",
      "..        ...       ...       ...       ...       ...       ...       ...   \n",
      "227  0.396782  0.431830  0.204612  0.180883  0.177528  0.159581  0.157967   \n",
      "228  0.532440  0.534905  0.455583  0.450145  0.453540  0.447371  0.443229   \n",
      "229  1.000000  1.000000  1.000000  1.000000  0.998687  0.700195  0.601348   \n",
      "230  0.554548  0.517393  0.403044  0.410178  0.426412  0.423137  0.416172   \n",
      "231  0.446123  0.373443  0.246950  0.256069  0.302097  0.273552  0.262456   \n",
      "\n",
      "         23        25        28    ...      1996      1997      1998  \\\n",
      "0    0.270549  0.327315  0.285819  ...  0.629263  0.582712  0.710099   \n",
      "1    0.164954  0.195948  0.216494  ...  0.534084  0.536563  0.534913   \n",
      "2    0.211525  0.240049  0.258468  ...  0.530190  0.547277  0.544557   \n",
      "3    0.691220  0.661292  0.635608  ...  0.302304  0.324892  0.322120   \n",
      "4    0.268896  0.336316  0.292351  ...  0.705702  0.681827  0.684085   \n",
      "..        ...       ...       ...  ...       ...       ...       ...   \n",
      "227  0.129635  0.166301  0.204837  ...  0.455882  0.452264  0.453849   \n",
      "228  0.410270  0.441937  0.401214  ...  0.403012  0.504870  0.522504   \n",
      "229  0.440068  0.300657  0.272377  ...  0.724542  0.698945  0.701503   \n",
      "230  0.327245  0.317422  0.094524  ...  0.535014  0.611458  0.611227   \n",
      "231  0.254447  0.247497  0.323880  ...  0.214438  0.449354  0.581851   \n",
      "\n",
      "         1999      2000      2001      2002      2003      2004      2007  \n",
      "0    0.637345  0.703479  0.582113  0.599218  0.649079  0.623801  0.604241  \n",
      "1    0.538490  0.541780  0.419807  0.356044  0.369408  0.327619  0.227406  \n",
      "2    0.547727  0.564634  0.452303  0.497980  0.562095  0.474575  0.472808  \n",
      "3    0.305598  0.284190  0.193155  0.188309  0.371387  0.300332  0.315650  \n",
      "4    0.693106  0.713194  0.592236  0.684551  0.731525  0.663359  0.621078  \n",
      "..        ...       ...       ...       ...       ...       ...       ...  \n",
      "227  0.468019  0.484046  0.386441  0.416850  0.476395  0.391345  0.392736  \n",
      "228  0.527613  0.521576  0.414281  0.442481  0.523427  0.437808  0.416370  \n",
      "229  0.702541  0.702932  0.559553  0.619106  0.657932  0.590441  0.534421  \n",
      "230  0.581526  0.583183  0.476030  0.535571  0.588782  0.479644  0.454202  \n",
      "231  0.608862  0.573116  0.247484  0.000000  0.279113  0.268336  0.000000  \n",
      "\n",
      "[232 rows x 297 columns]\n",
      "[0 0 2 0 2 2 1 1 0 1 2 2 2 0 1 1 1 0 1 1 0 0 0 0 0 1 1 1 1 0 0 0 1 1 0 1 0\n",
      " 0 0 0 0 1 1 1 2 0 1 0 0 1 0 0 0 0 2 0 2 1 2 0 1 2 0 0 0 2 1 0 1 2 0 0 1 0\n",
      " 2 0 0 1 2 1 0 1 1 1 1 0 2 0 1 1 0 0 1 1 1 2 0 0 2 2 1 1 1 2 2 0 0 0 1 2 0\n",
      " 2 1 0 1 1 2 2 1 0 0 2 2 0 0 0 1 2 0 2 2 0 2 2 1 1 1 0 0 2 1 1 1 1 1 0 1 1\n",
      " 0 0 0 1 1 2 1 0 1 0 0 0 0 1 2 2 1 1 0 0 1 0 1 1 0 0 1 1 1 1 2 1 1 1 2 1 0\n",
      " 1 0 1 1 0 1 0 2 1 0 2 0 1 2 1 1 2 2 0 1 0 0 0 0 0 0 1 0 0 0 1 0 2 2 2 1 1\n",
      " 1 1 1 2 0 0 2 1 2 1]\n"
     ]
    }
   ],
   "source": [
    "#model = AgglomerativeClustering(n_clusters=3)\n",
    "\n",
    "#cluster_labels = model.fit_predict(rot_scaled)\n",
    "\n",
    "rotsc_df = pd.DataFrame(rot_scaled)\n",
    "\n",
    "rotsc_nona = rotsc_df.dropna(axis='columns')\n",
    "\n",
    "model = AgglomerativeClustering(n_clusters=3)\n",
    "\n",
    "rot_cl_labels = model.fit_predict(rotsc_nona)\n",
    "print(rotsc_nona)\n",
    "print(rot_cl_labels)"
   ]
  },
  {
   "cell_type": "code",
   "execution_count": 49,
   "metadata": {},
   "outputs": [
    {
     "name": "stdout",
     "output_type": "stream",
     "text": [
      "     UMAP Dim. #1  UMAP Dim. #2  rot_cl_labels\n",
      "0        0.370131      0.795645              0\n",
      "1        0.595369      0.868672              0\n",
      "2        0.866514      0.566479              2\n",
      "3        0.649445      0.840151              0\n",
      "4        0.917168      0.551788              2\n",
      "..            ...           ...            ...\n",
      "227      0.402231      0.933466              0\n",
      "228      0.846332      0.817959              2\n",
      "229      0.352560      0.266796              1\n",
      "230      0.831648      0.610051              2\n",
      "231      0.679330      0.157425              1\n",
      "\n",
      "[232 rows x 3 columns]\n"
     ]
    }
   ],
   "source": [
    "data_reducer = umap.UMAP()\n",
    "rot_umap_data = data_reducer.fit_transform(rotsc_nona)\n",
    "\n",
    "\n",
    "rot_scaled_umap_data = scaler.fit_transform(rot_umap_data)\n",
    "\n",
    "\n",
    "''' add back to a dataframe because it's easier to keep track of things\n",
    "(all indices and columns have names that we can reference)'''\n",
    "\n",
    "rot_reduced = pd.DataFrame(rot_scaled_umap_data,columns=['UMAP Dim. #1', 'UMAP Dim. #2'])\n",
    "\n",
    "''' add in our clustering labels from hierarchical clustering '''\n",
    "rot_reduced['rot_cl_labels'] = rot_cl_labels\n",
    "\n",
    "''' check out the reduced data here!'''\n",
    "print(rot_reduced)"
   ]
  },
  {
   "cell_type": "code",
   "execution_count": 50,
   "metadata": {},
   "outputs": [
    {
     "data": {
      "text/plain": [
       "<matplotlib.axes._subplots.AxesSubplot at 0x11d378860>"
      ]
     },
     "execution_count": 50,
     "metadata": {},
     "output_type": "execute_result"
    },
    {
     "data": {
      "image/png": "[encoded data removed]",
      "text/plain": [
       "<Figure size 432x288 with 1 Axes>"
      ]
     },
     "metadata": {
      "needs_background": "light"
     },
     "output_type": "display_data"
    }
   ],
   "source": [
    "sns.scatterplot(x='UMAP Dim. #1', y='UMAP Dim. #2',\n",
    "            hue='rot_cl_labels', data=rot_reduced)"
   ]
  },
  {
   "cell_type": "code",
   "execution_count": null,
   "metadata": {},
   "outputs": [],
   "source": []
  }
 ],
 "metadata": {
  "kernelspec": {
   "display_name": "Python 3",
   "language": "python",
   "name": "python3"
  },
  "language_info": {
   "codemirror_mode": {
    "name": "ipython",
    "version": 3
   },
   "file_extension": ".py",
   "mimetype": "text/x-python",
   "name": "python",
   "nbconvert_exporter": "python",
   "pygments_lexer": "ipython3",
   "version": "3.7.3"
  }
 },
 "nbformat": 4,
 "nbformat_minor": 4
}

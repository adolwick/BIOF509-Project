{
 "cells": [
  {
   "cell_type": "code",
   "execution_count": 12,
   "metadata": {},
   "outputs": [],
   "source": [
    "import numpy as np\n",
    "import pandas as pd\n",
    "import matplotlib.pyplot as plt\n",
    "from sklearn.ensemble import RandomForestRegressor\n",
    "from sklearn.model_selection import train_test_split\n",
    "from sklearn.model_selection import KFold\n",
    "from sklearn.model_selection import cross_val_score\n",
    "from sklearn.model_selection import cross_val_predict"
   ]
  },
  {
   "cell_type": "code",
   "execution_count": 13,
   "metadata": {},
   "outputs": [],
   "source": [
    "class RFregressor:\n",
    "    \n",
    "    def __init__(self, datafile, outcome, nonfeatures = []):\n",
    "        self.df = pd.read_csv(datafile)\n",
    "        self.X = np.array(self.df.drop(nonfeatures, 1))\n",
    "        self.y = np.array(self.df[outcome])\n",
    "        self.Xdf = pd.DataFrame(self.X)\n",
    "        self.ydf = pd.DataFrame(self.y)\n",
    "        \n",
    "    def regress(self, scoring, n_estimators=[], cv=[]):\n",
    "        self.rf_model = RandomForestRegressor(n_estimators=n_estimators, random_state=0)\n",
    "        self.predictions = cross_val_predict(self.rf_model, self.X, self.y, cv=cv)\n",
    "        self.scores = cross_val_score(self.rf_model, self.X, self.y, cv=cv, scoring=scoring)\n",
    "        print(self.scores)"
   ]
  },
  {
   "cell_type": "code",
   "execution_count": 14,
   "metadata": {},
   "outputs": [
    {
     "name": "stdout",
     "output_type": "stream",
     "text": [
      "[-0.75918617 -0.84858295 -0.72151649 -0.8778568  -0.75754806]\n"
     ]
    }
   ],
   "source": [
    "RFR1 = RFregressor(\"SCALED_PCA_DATA.csv\", 'presence', nonfeatures = ['labvisitid', 'presence'])\n",
    "RFR1.regress('neg_root_mean_squared_error', n_estimators = 10, cv = 5)"
   ]
  },
  {
   "cell_type": "code",
   "execution_count": null,
   "metadata": {},
   "outputs": [],
   "source": []
  }
 ],
 "metadata": {
  "kernelspec": {
   "display_name": "Python 3",
   "language": "python",
   "name": "python3"
  },
  "language_info": {
   "codemirror_mode": {
    "name": "ipython",
    "version": 3
   },
   "file_extension": ".py",
   "mimetype": "text/x-python",
   "name": "python",
   "nbconvert_exporter": "python",
   "pygments_lexer": "ipython3",
   "version": "3.7.3"
  }
 },
 "nbformat": 4,
 "nbformat_minor": 4
}

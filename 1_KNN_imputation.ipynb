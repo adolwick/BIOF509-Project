{
 "cells": [
  {
   "cell_type": "markdown",
   "metadata": {},
   "source": [
    "# 1. KNN Imputation of Missing Values in Raw Data"
   ]
  },
  {
   "cell_type": "markdown",
   "metadata": {},
   "source": [
    "#### Start Here\n",
    "\n",
    "This is the first step in this tool. This Jupyter Notebook file uses KNN imputation to resolve missing values in tidy datasets. Import the following packages and functions to start."
   ]
  },
  {
   "cell_type": "code",
   "execution_count": 48,
   "metadata": {},
   "outputs": [],
   "source": [
    "import numpy as np\n",
    "import pandas as pd\n",
    "from sklearn.preprocessing import MinMaxScaler\n",
    "from sklearn.impute import KNNImputer\n",
    "pd.options.display.max_rows=10\n",
    "pd.options.display.max_columns=6"
   ]
  },
  {
   "cell_type": "code",
   "execution_count": 69,
   "metadata": {},
   "outputs": [],
   "source": [
    "class KNN_impute:\n",
    "\n",
    "    '''    \n",
    "        INIT FUNCTION: \n",
    "        \n",
    "        --Input csv file with raw data. Specify \"IDs\" -- any columns not to be scaled.\n",
    "        \n",
    "        --In the sample data, for example, the \"IDs\" are the ID column and the outcome variable column.\n",
    "        \n",
    "        --Output from this function includes a dataframe of only specified IDs and a dataframe of all other columns.\n",
    "    '''\n",
    "    \n",
    "    def __init__(self, datafile, IDs = []):\n",
    "        self.data = pd.read_csv(datafile)\n",
    "        self.IDs = IDs\n",
    "        self.IDdf = self.data.filter(IDs)\n",
    "        self.nonIDdf = pd.DataFrame(self.data.drop(self.IDs, axis=1))\n",
    "\n",
    "    '''\n",
    "        SCALE METHOD: \n",
    "        \n",
    "        --Specify which scaler to use and input a csv filename to export the dataframe with the scaled data and IDs columns.\n",
    "    ''' \n",
    "    \n",
    "    def scale (self, scaler, csvname):\n",
    "        self.scaler = scaler\n",
    "        self.scaled_data = pd.DataFrame(self.scaler.fit_transform(self.nonIDdf), columns=self.nonIDdf.columns)\n",
    "        self.combine_dfs = [self.IDdf, self.scaled_data]\n",
    "        self.scaled_data_with_IDs = pd.concat(self.combine_dfs, axis=1)\n",
    "        self.scaled_data_with_IDs.to_csv(csvname, index=False)\n",
    "        \n",
    "    '''\n",
    "        IMPUTE METHOD:\n",
    "        \n",
    "        --Specify which imputer to use.\n",
    "    '''    \n",
    "    \n",
    "    def impute (self, imputer):\n",
    "        self.imputer = imputer\n",
    "        self.imputed_data = self.imputer.fit_transform(self.scaled_data_with_IDs)\n",
    "        self.output_df = pd.DataFrame(self.imputed_data, columns=self.scaled_data_with_IDs.columns)\n",
    "        \n",
    "    '''\n",
    "        UNIQUE_VIZ METHOD:\n",
    "        \n",
    "        --Specify csv name to export the number of unique values per column after imputation.\n",
    "        \n",
    "        --Specify size for visualization of unique values per feature.\n",
    "        \n",
    "        --These data and this visualization will tell us which columns have insufficient variance for further analysis.\n",
    "    '''\n",
    "        \n",
    "    def unique_viz (self, csvname, figsize=[]):\n",
    "        self.unique = pd.DataFrame(self.output_df.drop(self.IDs, axis=1).nunique(axis=0))\n",
    "        self.unique.columns = [\"num_unique\"]\n",
    "        self.unique.index.name = 'feature'\n",
    "        self.cutpoint_plot = self.unique.plot.line(figsize=figsize)\n",
    "        self.unique.to_csv(csvname, index=True)\n",
    "        \n",
    "    '''\n",
    "        FILTERCOLS METHOD:\n",
    "        \n",
    "        --Removes columns with insufficient variance according to specified cutpoint.\n",
    "        \n",
    "        --Specify csvname for final output dataframe with imputed values.\n",
    "    '''\n",
    "    \n",
    "    def filterCols (self, cutpoint, csvname):\n",
    "        self.new_df = self.output_df\n",
    "        for col in self.output_df.drop(self.IDs, axis=1).columns:\n",
    "            if len(self.output_df[col].unique()) < cutpoint:\n",
    "                self.new_df = self.new_df.drop(col,axis=1)\n",
    "        self.new_df.to_csv(csvname, index=False)\n",
    "        self.final_df = pd.DataFrame(self.new_df)"
   ]
  },
  {
   "cell_type": "code",
   "execution_count": 70,
   "metadata": {},
   "outputs": [],
   "source": [
    "class FullJoin:\n",
    "    \n",
    "    '''\n",
    "        --This class combines multiple tidy dataframes.\n",
    "    '''\n",
    "    \n",
    "    def __init__(self, csvname, dflist = []):\n",
    "        self.dflist = dflist\n",
    "        self.fulldf = pd.concat(self.dflist, axis=1)\n",
    "        self.fulldf = self.fulldf.loc[:,~self.fulldf.columns.duplicated()]\n",
    "        self.fulldf.to_csv(csvname, index=False)"
   ]
  },
  {
   "cell_type": "markdown",
   "metadata": {},
   "source": [
    "#### KNN Imputation of Missing Values in Yaw Data\n",
    "\n",
    "Raw sample data are split into six csv files because the different 6DOF dimensions have different ranges of values, so it is necessary to scale them separately. We will start with the data for yaw."
   ]
  },
  {
   "cell_type": "code",
   "execution_count": 87,
   "metadata": {},
   "outputs": [
    {
     "name": "stdout",
     "output_type": "stream",
     "text": [
      "     labvisitid  presence   yaw_0.5  ...  yaw_461.5  yaw_462  yaw_462.5\n",
      "0           1.0       4.0  0.424407  ...        0.0      0.0        0.0\n",
      "1           2.0       3.2  0.419289  ...        0.0      0.0        0.0\n",
      "2           3.0       3.4  0.476286  ...        0.0      0.0        0.0\n",
      "3           4.0       2.8  0.511884  ...        0.0      0.0        0.0\n",
      "4           5.0       3.4  0.474331  ...        0.0      0.0        0.0\n",
      "..          ...       ...       ...  ...        ...      ...        ...\n",
      "211       259.0       2.8  0.498104  ...        0.0      0.0        0.0\n",
      "212       260.0       3.4  0.526236  ...        0.0      0.0        0.0\n",
      "213       261.0       4.0  0.488090  ...        0.0      0.0        0.0\n",
      "214       262.0       4.8  0.322758  ...        0.0      0.0        0.0\n",
      "215       263.0       4.4  0.543669  ...        0.0      0.0        0.0\n",
      "\n",
      "[216 rows x 927 columns]\n"
     ]
    },
    {
     "data": {
      "image/png": "[encoded data removed]",
      "text/plain": [
       "<Figure size 864x576 with 1 Axes>"
      ]
     },
     "metadata": {
      "needs_background": "light"
     },
     "output_type": "display_data"
    }
   ],
   "source": [
    "#Read in csv of yaw values\n",
    "#Create KNN_impute class object \"yaw\"\n",
    "#ID column and presence outcome column are specified not to be scaled.\n",
    "yaw = KNN_impute(\"Data_Yaw.csv\", IDs = ['labvisitid', 'presence'])\n",
    "\n",
    "#We will use MinMaxScaler() to scale the data since these data are not normally distributed.\n",
    "yaw.scale(MinMaxScaler(), \"yaw_scaled.csv\")\n",
    "\n",
    "#We will use KNNImputer() on the sample data.\n",
    "yaw.impute(KNNImputer(n_neighbors=3))\n",
    "\n",
    "print(yaw.output_df)\n",
    "\n",
    "yaw.unique_viz(\"yaw_unique.csv\", figsize=(12,8))\n",
    "\n",
    "#This plot will allow us to decide where to truncate the data to remove columns with low variance.\n",
    "yawline = yaw.cutpoint_plot"
   ]
  },
  {
   "cell_type": "markdown",
   "metadata": {},
   "source": [
    "We can see that the number of unique values per feature decreases as we move along the dataset. For example, yaw_100.5 (the feature representing users' yaw value at 100.5 seconds into VR use) contains roughly 216 unique values, the same as our number of participants. By yaw_300.5, the number of unique values per feature is roughly a tenth of the number of participants. These columns will likely not have sufficient variance to be useful in our future analyses.\n",
    "\n",
    "Why is this graph shaped this way for the sample data? Since the dataset must contain enough columns to record data for the participant spending the longest amount of time in the VR environment, each participant's row of data only has values until the half-second they exit VR. Any columns to the right of that have no data and are marked as missing. Near the right side of the data file, the imputer only has a couple real data points per column to impute from, so most participants have received the same couple of values in those columns. The number of unique values per column, as seen in this graph, is roughly approximated by the number of participants still in VR at that half-second.\n",
    "\n",
    "Below, I have chosen to truncate the yaw data so that only columns with 30 or more unique values are retained. I chose this value because it corresponds with a distinct drop in the graph, so that all half-seconds up to a certain point are included and no half-seconds after that point are included. As it turns out, this cutpoint of 30 worked in a similar way for all 6 degrees of freedom; for each of the 6DOF, setting a cutpoint of 30 unique values resulted in a dataset which records from 0.5 seconds to 288 +/- 0.5 seconds."
   ]
  },
  {
   "cell_type": "code",
   "execution_count": 72,
   "metadata": {},
   "outputs": [
    {
     "data": {
      "text/html": [
       "<div>\n",
       "<style scoped>\n",
       "    .dataframe tbody tr th:only-of-type {\n",
       "        vertical-align: middle;\n",
       "    }\n",
       "\n",
       "    .dataframe tbody tr th {\n",
       "        vertical-align: top;\n",
       "    }\n",
       "\n",
       "    .dataframe thead th {\n",
       "        text-align: right;\n",
       "    }\n",
       "</style>\n",
       "<table border=\"1\" class=\"dataframe\">\n",
       "  <thead>\n",
       "    <tr style=\"text-align: right;\">\n",
       "      <th></th>\n",
       "      <th>labvisitid</th>\n",
       "      <th>presence</th>\n",
       "      <th>yaw_0.5</th>\n",
       "      <th>...</th>\n",
       "      <th>yaw_287</th>\n",
       "      <th>yaw_287.5</th>\n",
       "      <th>yaw_288</th>\n",
       "    </tr>\n",
       "  </thead>\n",
       "  <tbody>\n",
       "    <tr>\n",
       "      <th>0</th>\n",
       "      <td>1.0</td>\n",
       "      <td>4.0</td>\n",
       "      <td>0.424407</td>\n",
       "      <td>...</td>\n",
       "      <td>0.289145</td>\n",
       "      <td>0.294373</td>\n",
       "      <td>0.306312</td>\n",
       "    </tr>\n",
       "    <tr>\n",
       "      <th>1</th>\n",
       "      <td>2.0</td>\n",
       "      <td>3.2</td>\n",
       "      <td>0.419289</td>\n",
       "      <td>...</td>\n",
       "      <td>0.289145</td>\n",
       "      <td>0.294373</td>\n",
       "      <td>0.306312</td>\n",
       "    </tr>\n",
       "    <tr>\n",
       "      <th>2</th>\n",
       "      <td>3.0</td>\n",
       "      <td>3.4</td>\n",
       "      <td>0.476286</td>\n",
       "      <td>...</td>\n",
       "      <td>0.289145</td>\n",
       "      <td>0.294373</td>\n",
       "      <td>0.306312</td>\n",
       "    </tr>\n",
       "    <tr>\n",
       "      <th>3</th>\n",
       "      <td>4.0</td>\n",
       "      <td>2.8</td>\n",
       "      <td>0.511884</td>\n",
       "      <td>...</td>\n",
       "      <td>0.289145</td>\n",
       "      <td>0.294373</td>\n",
       "      <td>0.306312</td>\n",
       "    </tr>\n",
       "    <tr>\n",
       "      <th>4</th>\n",
       "      <td>5.0</td>\n",
       "      <td>3.4</td>\n",
       "      <td>0.474331</td>\n",
       "      <td>...</td>\n",
       "      <td>0.289145</td>\n",
       "      <td>0.294373</td>\n",
       "      <td>0.306312</td>\n",
       "    </tr>\n",
       "    <tr>\n",
       "      <th>...</th>\n",
       "      <td>...</td>\n",
       "      <td>...</td>\n",
       "      <td>...</td>\n",
       "      <td>...</td>\n",
       "      <td>...</td>\n",
       "      <td>...</td>\n",
       "      <td>...</td>\n",
       "    </tr>\n",
       "    <tr>\n",
       "      <th>211</th>\n",
       "      <td>259.0</td>\n",
       "      <td>2.8</td>\n",
       "      <td>0.498104</td>\n",
       "      <td>...</td>\n",
       "      <td>0.404961</td>\n",
       "      <td>0.404995</td>\n",
       "      <td>0.420951</td>\n",
       "    </tr>\n",
       "    <tr>\n",
       "      <th>212</th>\n",
       "      <td>260.0</td>\n",
       "      <td>3.4</td>\n",
       "      <td>0.526236</td>\n",
       "      <td>...</td>\n",
       "      <td>0.404961</td>\n",
       "      <td>0.404995</td>\n",
       "      <td>0.420951</td>\n",
       "    </tr>\n",
       "    <tr>\n",
       "      <th>213</th>\n",
       "      <td>261.0</td>\n",
       "      <td>4.0</td>\n",
       "      <td>0.488090</td>\n",
       "      <td>...</td>\n",
       "      <td>0.404961</td>\n",
       "      <td>0.404995</td>\n",
       "      <td>0.420951</td>\n",
       "    </tr>\n",
       "    <tr>\n",
       "      <th>214</th>\n",
       "      <td>262.0</td>\n",
       "      <td>4.8</td>\n",
       "      <td>0.322758</td>\n",
       "      <td>...</td>\n",
       "      <td>0.404961</td>\n",
       "      <td>0.404995</td>\n",
       "      <td>0.420951</td>\n",
       "    </tr>\n",
       "    <tr>\n",
       "      <th>215</th>\n",
       "      <td>263.0</td>\n",
       "      <td>4.4</td>\n",
       "      <td>0.543669</td>\n",
       "      <td>...</td>\n",
       "      <td>0.404961</td>\n",
       "      <td>0.404995</td>\n",
       "      <td>0.420951</td>\n",
       "    </tr>\n",
       "  </tbody>\n",
       "</table>\n",
       "<p>216 rows × 578 columns</p>\n",
       "</div>"
      ],
      "text/plain": [
       "     labvisitid  presence   yaw_0.5  ...   yaw_287  yaw_287.5   yaw_288\n",
       "0           1.0       4.0  0.424407  ...  0.289145   0.294373  0.306312\n",
       "1           2.0       3.2  0.419289  ...  0.289145   0.294373  0.306312\n",
       "2           3.0       3.4  0.476286  ...  0.289145   0.294373  0.306312\n",
       "3           4.0       2.8  0.511884  ...  0.289145   0.294373  0.306312\n",
       "4           5.0       3.4  0.474331  ...  0.289145   0.294373  0.306312\n",
       "..          ...       ...       ...  ...       ...        ...       ...\n",
       "211       259.0       2.8  0.498104  ...  0.404961   0.404995  0.420951\n",
       "212       260.0       3.4  0.526236  ...  0.404961   0.404995  0.420951\n",
       "213       261.0       4.0  0.488090  ...  0.404961   0.404995  0.420951\n",
       "214       262.0       4.8  0.322758  ...  0.404961   0.404995  0.420951\n",
       "215       263.0       4.4  0.543669  ...  0.404961   0.404995  0.420951\n",
       "\n",
       "[216 rows x 578 columns]"
      ]
     },
     "execution_count": 72,
     "metadata": {},
     "output_type": "execute_result"
    }
   ],
   "source": [
    "yaw.filterCols(30, \"yaw_imputed.csv\")\n",
    "yaw.final_df"
   ]
  },
  {
   "cell_type": "markdown",
   "metadata": {},
   "source": [
    "#### KNN Imputation of Missing Values in Pitch Data\n",
    "\n",
    "The same procedure used to impute values for missing yaw data can be applied with no notable differences to the pitch, roll, x, y, and z data."
   ]
  },
  {
   "cell_type": "code",
   "execution_count": 73,
   "metadata": {},
   "outputs": [
    {
     "name": "stdout",
     "output_type": "stream",
     "text": [
      "     labvisitid  presence  pitch_0.5  ...  pitch_461.5  pitch_462  pitch_462.5\n",
      "0           1.0       4.0   0.548471  ...          0.0        0.0          0.0\n",
      "1           2.0       3.2   0.288129  ...          0.0        0.0          0.0\n",
      "2           3.0       3.4   0.139014  ...          0.0        0.0          0.0\n",
      "3           4.0       2.8   0.659744  ...          0.0        0.0          0.0\n",
      "4           5.0       3.4   0.087555  ...          0.0        0.0          0.0\n",
      "..          ...       ...        ...  ...          ...        ...          ...\n",
      "211       259.0       2.8   0.232430  ...          0.0        0.0          0.0\n",
      "212       260.0       3.4   0.187118  ...          0.0        0.0          0.0\n",
      "213       261.0       4.0   0.178444  ...          0.0        0.0          0.0\n",
      "214       262.0       4.8   0.394587  ...          0.0        0.0          0.0\n",
      "215       263.0       4.4   0.093992  ...          0.0        0.0          0.0\n",
      "\n",
      "[216 rows x 927 columns]\n"
     ]
    },
    {
     "data": {
      "image/png": "[encoded data removed]",
      "text/plain": [
       "<Figure size 720x288 with 1 Axes>"
      ]
     },
     "metadata": {
      "needs_background": "light"
     },
     "output_type": "display_data"
    }
   ],
   "source": [
    "pitch = KNN_impute(\"Data_Pitch.csv\", IDs = ['labvisitid', 'presence'])\n",
    "pitch.scale(MinMaxScaler(), \"pitch_scaled.csv\")\n",
    "pitch.impute(KNNImputer(n_neighbors=3))\n",
    "pitch_all = pd.DataFrame(pitch.output_df)\n",
    "print(pitch_all)\n",
    "pitch.unique_viz(\"pitch_unique.csv\", figsize=(10,4))\n",
    "pitchline = pitch.cutpoint_plot"
   ]
  },
  {
   "cell_type": "code",
   "execution_count": 74,
   "metadata": {},
   "outputs": [],
   "source": [
    "pitch.filterCols(30, \"pitch_imputed.csv\")"
   ]
  },
  {
   "cell_type": "markdown",
   "metadata": {},
   "source": [
    "#### KNN Imputation of Missing Values in Roll Data"
   ]
  },
  {
   "cell_type": "code",
   "execution_count": 75,
   "metadata": {},
   "outputs": [
    {
     "name": "stdout",
     "output_type": "stream",
     "text": [
      "     labvisitid  presence  roll_0.5  ...  roll_461.5  roll_462  roll_462.5\n",
      "0           1.0       4.0  0.654311  ...         0.0       0.0         0.0\n",
      "1           2.0       3.2  0.379595  ...         0.0       0.0         0.0\n",
      "2           3.0       3.4  0.468124  ...         0.0       0.0         0.0\n",
      "3           4.0       2.8  0.522523  ...         0.0       0.0         0.0\n",
      "4           5.0       3.4  0.468145  ...         0.0       0.0         0.0\n",
      "..          ...       ...       ...  ...         ...       ...         ...\n",
      "211       259.0       2.8  0.660400  ...         0.0       0.0         0.0\n",
      "212       260.0       3.4  0.563272  ...         0.0       0.0         0.0\n",
      "213       261.0       4.0  0.625336  ...         0.0       0.0         0.0\n",
      "214       262.0       4.8  0.545936  ...         0.0       0.0         0.0\n",
      "215       263.0       4.4  0.489715  ...         0.0       0.0         0.0\n",
      "\n",
      "[216 rows x 927 columns]\n"
     ]
    },
    {
     "data": {
      "image/png": "[encoded data removed]",
      "text/plain": [
       "<Figure size 720x288 with 1 Axes>"
      ]
     },
     "metadata": {
      "needs_background": "light"
     },
     "output_type": "display_data"
    }
   ],
   "source": [
    "roll = KNN_impute(\"Data_Roll.csv\", IDs = ['labvisitid', 'presence'])\n",
    "roll.scale(MinMaxScaler(), \"roll_scaled.csv\")\n",
    "roll.impute(KNNImputer(n_neighbors=3))\n",
    "roll_all = pd.DataFrame(roll.output_df)\n",
    "print(roll_all)\n",
    "roll.unique_viz(\"roll_unique.csv\", figsize=(10,4))\n",
    "rollline = roll.cutpoint_plot"
   ]
  },
  {
   "cell_type": "code",
   "execution_count": 76,
   "metadata": {},
   "outputs": [],
   "source": [
    "roll.filterCols(30, \"roll_imputed.csv\")"
   ]
  },
  {
   "cell_type": "markdown",
   "metadata": {},
   "source": [
    "#### KNN Imputation of Missing Values in X-Axis Data"
   ]
  },
  {
   "cell_type": "code",
   "execution_count": 77,
   "metadata": {},
   "outputs": [
    {
     "name": "stdout",
     "output_type": "stream",
     "text": [
      "     labvisitid  presence     x_0.5  ...  x_461.5  x_462  x_462.5\n",
      "0           1.0       4.0  0.263141  ...      0.0    0.0      0.0\n",
      "1           2.0       3.2  0.405601  ...      0.0    0.0      0.0\n",
      "2           3.0       3.4  0.351221  ...      0.0    0.0      0.0\n",
      "3           4.0       2.8  0.285647  ...      0.0    0.0      0.0\n",
      "4           5.0       3.4  0.404023  ...      0.0    0.0      0.0\n",
      "..          ...       ...       ...  ...      ...    ...      ...\n",
      "211       259.0       2.8  0.249609  ...      0.0    0.0      0.0\n",
      "212       260.0       3.4  0.185196  ...      0.0    0.0      0.0\n",
      "213       261.0       4.0  0.446995  ...      0.0    0.0      0.0\n",
      "214       262.0       4.8  0.106594  ...      0.0    0.0      0.0\n",
      "215       263.0       4.4  0.354316  ...      0.0    0.0      0.0\n",
      "\n",
      "[216 rows x 927 columns]\n"
     ]
    },
    {
     "data": {
      "image/png": "[encoded data removed]",
      "text/plain": [
       "<Figure size 720x288 with 1 Axes>"
      ]
     },
     "metadata": {
      "needs_background": "light"
     },
     "output_type": "display_data"
    }
   ],
   "source": [
    "x = KNN_impute(\"Data_X.csv\", IDs = ['labvisitid', 'presence'])\n",
    "x.scale(MinMaxScaler(), \"x_scaled.csv\")\n",
    "x.impute(KNNImputer(n_neighbors=3))\n",
    "x_all = pd.DataFrame(x.output_df)\n",
    "print(x_all)\n",
    "x.unique_viz(\"x_unique.csv\", figsize=(10,4))\n",
    "xline = x.cutpoint_plot"
   ]
  },
  {
   "cell_type": "code",
   "execution_count": 78,
   "metadata": {},
   "outputs": [],
   "source": [
    "x.filterCols(30, \"x_imputed.csv\")"
   ]
  },
  {
   "cell_type": "markdown",
   "metadata": {},
   "source": [
    "#### KNN Imputation of Missing Values in Y-Axis Data"
   ]
  },
  {
   "cell_type": "code",
   "execution_count": 79,
   "metadata": {},
   "outputs": [
    {
     "name": "stdout",
     "output_type": "stream",
     "text": [
      "     labvisitid  presence     y_0.5  ...  y_461.5  y_462  y_462.5\n",
      "0           1.0       4.0  0.428549  ...      0.0    0.0      0.0\n",
      "1           2.0       3.2  0.537047  ...      0.0    0.0      0.0\n",
      "2           3.0       3.4  0.557278  ...      0.0    0.0      0.0\n",
      "3           4.0       2.8  0.342932  ...      0.0    0.0      0.0\n",
      "4           5.0       3.4  0.548548  ...      0.0    0.0      0.0\n",
      "..          ...       ...       ...  ...      ...    ...      ...\n",
      "211       259.0       2.8  0.316860  ...      0.0    0.0      0.0\n",
      "212       260.0       3.4  0.454712  ...      0.0    0.0      0.0\n",
      "213       261.0       4.0  0.910611  ...      0.0    0.0      0.0\n",
      "214       262.0       4.8  0.428715  ...      0.0    0.0      0.0\n",
      "215       263.0       4.4  0.366374  ...      0.0    0.0      0.0\n",
      "\n",
      "[216 rows x 927 columns]\n"
     ]
    },
    {
     "data": {
      "image/png": "[encoded data removed]",
      "text/plain": [
       "<Figure size 720x288 with 1 Axes>"
      ]
     },
     "metadata": {
      "needs_background": "light"
     },
     "output_type": "display_data"
    }
   ],
   "source": [
    "y = KNN_impute(\"Data_Y.csv\", IDs = ['labvisitid', 'presence'])\n",
    "y.scale(MinMaxScaler(), \"y_scaled.csv\")\n",
    "y.impute(KNNImputer(n_neighbors=3))\n",
    "y_all = pd.DataFrame(y.output_df)\n",
    "print(y_all)\n",
    "y.unique_viz(\"y_unique.csv\", figsize=(10,4))\n",
    "yline = y.cutpoint_plot"
   ]
  },
  {
   "cell_type": "code",
   "execution_count": 80,
   "metadata": {},
   "outputs": [],
   "source": [
    "y.filterCols(30, \"y_imputed.csv\")"
   ]
  },
  {
   "cell_type": "markdown",
   "metadata": {},
   "source": [
    "#### KNN Imputation of Missing Values in Z-Axis Data"
   ]
  },
  {
   "cell_type": "code",
   "execution_count": 81,
   "metadata": {},
   "outputs": [
    {
     "name": "stdout",
     "output_type": "stream",
     "text": [
      "     labvisitid  presence     z_0.5  ...  z_461.5  z_462  z_462.5\n",
      "0           1.0       4.0  0.149444  ...      0.0    0.0      0.0\n",
      "1           2.0       3.2  0.119485  ...      0.0    0.0      0.0\n",
      "2           3.0       3.4  0.112860  ...      0.0    0.0      0.0\n",
      "3           4.0       2.8  0.315297  ...      0.0    0.0      0.0\n",
      "4           5.0       3.4  0.200984  ...      0.0    0.0      0.0\n",
      "..          ...       ...       ...  ...      ...    ...      ...\n",
      "211       259.0       2.8  0.243777  ...      0.0    0.0      0.0\n",
      "212       260.0       3.4  0.155403  ...      0.0    0.0      0.0\n",
      "213       261.0       4.0  0.164612  ...      0.0    0.0      0.0\n",
      "214       262.0       4.8  0.177309  ...      0.0    0.0      0.0\n",
      "215       263.0       4.4  0.227917  ...      0.0    0.0      0.0\n",
      "\n",
      "[216 rows x 927 columns]\n"
     ]
    },
    {
     "data": {
      "image/png": "[encoded data removed]",
      "text/plain": [
       "<Figure size 720x288 with 1 Axes>"
      ]
     },
     "metadata": {
      "needs_background": "light"
     },
     "output_type": "display_data"
    }
   ],
   "source": [
    "z = KNN_impute(\"Data_Z.csv\", IDs = ['labvisitid', 'presence'])\n",
    "z.scale(MinMaxScaler(), \"z_scaled.csv\")\n",
    "z.impute(KNNImputer(n_neighbors=3))\n",
    "z_all = pd.DataFrame(z.output_df)\n",
    "print(z_all)\n",
    "z.unique_viz(\"z_unique.csv\", figsize=(10,4))\n",
    "zline = z.cutpoint_plot"
   ]
  },
  {
   "cell_type": "code",
   "execution_count": 82,
   "metadata": {},
   "outputs": [],
   "source": [
    "z.filterCols(30, \"z_imputed.csv\")"
   ]
  },
  {
   "cell_type": "markdown",
   "metadata": {},
   "source": [
    "### Concatenating Data from All Six DataFrames\n",
    "\n",
    "The final step before we move on to dimensionality reduction is to combine the six scaled and imputed datasets into one csv file that we can read in to the PCA and UMAP code files."
   ]
  },
  {
   "cell_type": "code",
   "execution_count": 83,
   "metadata": {},
   "outputs": [],
   "source": [
    "imputed_dfs = FullJoin(\"SCALED_NONAN_DATA.csv\", \n",
    "                       dflist=[yaw.final_df, pitch.final_df, roll.final_df, x.final_df, y.final_df, z.final_df])"
   ]
  }
 ],
 "metadata": {
  "kernelspec": {
   "display_name": "Python 3",
   "language": "python",
   "name": "python3"
  },
  "language_info": {
   "codemirror_mode": {
    "name": "ipython",
    "version": 3
   },
   "file_extension": ".py",
   "mimetype": "text/x-python",
   "name": "python",
   "nbconvert_exporter": "python",
   "pygments_lexer": "ipython3",
   "version": "3.7.3"
  }
 },
 "nbformat": 4,
 "nbformat_minor": 4
}

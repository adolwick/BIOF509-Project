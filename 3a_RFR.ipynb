{
 "cells": [
  {
   "cell_type": "code",
   "execution_count": 68,
   "metadata": {},
   "outputs": [],
   "source": [
    "import numpy as np\n",
    "import pandas as pd\n",
    "import matplotlib.pyplot as plt\n",
    "from sklearn import metrics\n",
    "from sklearn.ensemble import RandomForestRegressor\n",
    "from sklearn.model_selection import train_test_split, KFold, cross_val_score, cross_val_predict, GridSearchCV"
   ]
  },
  {
   "cell_type": "code",
   "execution_count": 63,
   "metadata": {},
   "outputs": [],
   "source": [
    "class RFregressor:\n",
    "    \n",
    "    def __init__(self, datafile, outcome, nonfeatures = []):\n",
    "        self.df = pd.read_csv(datafile)\n",
    "        self.X = np.array(self.df.drop(nonfeatures, 1))\n",
    "        self.y = np.array(self.df[outcome])\n",
    "        self.Xdf = pd.DataFrame(self.X)\n",
    "        self.ydf = pd.DataFrame(self.y)\n",
    "        \n",
    "    def grid_search(self, scoring, max_depth=[], n_estimators=[], cv=[]):\n",
    "        self.gsc = GridSearchCV(\n",
    "                estimator=RandomForestRegressor(),\n",
    "                param_grid={\n",
    "                    'max_depth': max_depth,\n",
    "                    'n_estimators': n_estimators,\n",
    "                },\n",
    "                cv=cv, scoring=scoring, verbose=0,n_jobs=-1)\n",
    "        self.grid_result = self.gsc.fit(self.X, self.y)\n",
    "        self.best_params = self.grid_result.best_params_\n",
    "        print(self.best_params)\n",
    "        \n",
    "    def regress(self, scoring, cv=[]):\n",
    "        self.rf_model = RandomForestRegressor(max_depth=best_params[\"max_depth\"], n_estimators=best_params[\"n_estimators\"], random_state=2, verbose=False)\n",
    "        self.predictions = cross_val_predict(self.rf_model, self.X, self.y, cv=cv)\n",
    "        self.scores = cross_val_score(self.rf_model, self.X, self.y, cv=cv, scoring=scoring)\n",
    "        print(self.scores)\n",
    "        \n",
    "    def importance(self):\n",
    "        self.rf_model.fit(self.X, self.y)\n",
    "        self.importance = self.rf_model.feature_importances_\n",
    "        plt.bar([x for x in range(len(self.importance))], self.importance)\n",
    "        plt.title('Feature Importances')\n",
    "        plt.show()"
   ]
  },
  {
   "cell_type": "code",
   "execution_count": 71,
   "metadata": {},
   "outputs": [
    {
     "name": "stdout",
     "output_type": "stream",
     "text": [
      "{'max_depth': 3, 'n_estimators': 80}\n",
      "[-0.48642488 -0.59441746 -0.44343374 -0.64391309 -0.47075922]\n"
     ]
    }
   ],
   "source": [
    "RFR1 = RFregressor(\"SCALED_PCA_DATA.csv\", 'presence', nonfeatures = ['labvisitid', 'presence'])\n",
    "RFR1.grid_search('neg_mean_squared_error', max_depth=range(2,4), n_estimators=(50,60,70,80), cv=5)\n",
    "RFR1.regress('neg_mean_squared_error', cv = 5)"
   ]
  },
  {
   "cell_type": "code",
   "execution_count": 65,
   "metadata": {},
   "outputs": [
    {
     "data": {
      "image/png": "[encoded data removed]",
      "text/plain": [
       "<Figure size 432x288 with 1 Axes>"
      ]
     },
     "metadata": {
      "needs_background": "light"
     },
     "output_type": "display_data"
    }
   ],
   "source": [
    "RFR1.importance()"
   ]
  },
  {
   "cell_type": "code",
   "execution_count": 69,
   "metadata": {},
   "outputs": [
    {
     "data": {
      "text/plain": [
       "['accuracy',\n",
       " 'adjusted_mutual_info_score',\n",
       " 'adjusted_rand_score',\n",
       " 'average_precision',\n",
       " 'balanced_accuracy',\n",
       " 'completeness_score',\n",
       " 'explained_variance',\n",
       " 'f1',\n",
       " 'f1_macro',\n",
       " 'f1_micro',\n",
       " 'f1_samples',\n",
       " 'f1_weighted',\n",
       " 'fowlkes_mallows_score',\n",
       " 'homogeneity_score',\n",
       " 'jaccard',\n",
       " 'jaccard_macro',\n",
       " 'jaccard_micro',\n",
       " 'jaccard_samples',\n",
       " 'jaccard_weighted',\n",
       " 'max_error',\n",
       " 'mutual_info_score',\n",
       " 'neg_brier_score',\n",
       " 'neg_log_loss',\n",
       " 'neg_mean_absolute_error',\n",
       " 'neg_mean_gamma_deviance',\n",
       " 'neg_mean_poisson_deviance',\n",
       " 'neg_mean_squared_error',\n",
       " 'neg_mean_squared_log_error',\n",
       " 'neg_median_absolute_error',\n",
       " 'neg_root_mean_squared_error',\n",
       " 'normalized_mutual_info_score',\n",
       " 'precision',\n",
       " 'precision_macro',\n",
       " 'precision_micro',\n",
       " 'precision_samples',\n",
       " 'precision_weighted',\n",
       " 'r2',\n",
       " 'recall',\n",
       " 'recall_macro',\n",
       " 'recall_micro',\n",
       " 'recall_samples',\n",
       " 'recall_weighted',\n",
       " 'roc_auc',\n",
       " 'roc_auc_ovo',\n",
       " 'roc_auc_ovo_weighted',\n",
       " 'roc_auc_ovr',\n",
       " 'roc_auc_ovr_weighted',\n",
       " 'v_measure_score']"
      ]
     },
     "execution_count": 69,
     "metadata": {},
     "output_type": "execute_result"
    }
   ],
   "source": [
    "sorted(metrics.SCORERS.keys())"
   ]
  },
  {
   "cell_type": "code",
   "execution_count": null,
   "metadata": {},
   "outputs": [],
   "source": []
  }
 ],
 "metadata": {
  "kernelspec": {
   "display_name": "Python 3",
   "language": "python",
   "name": "python3"
  },
  "language_info": {
   "codemirror_mode": {
    "name": "ipython",
    "version": 3
   },
   "file_extension": ".py",
   "mimetype": "text/x-python",
   "name": "python",
   "nbconvert_exporter": "python",
   "pygments_lexer": "ipython3",
   "version": "3.7.3"
  }
 },
 "nbformat": 4,
 "nbformat_minor": 4
}

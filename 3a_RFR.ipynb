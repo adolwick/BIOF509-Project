{
 "cells": [
  {
   "cell_type": "markdown",
   "metadata": {},
   "source": [
    "# 3a. Random Forest Regressor\n",
    "\n",
    "We can now load either our PCA data or our UMAP data and use supervised learning algorithms to predict our outcome variable using the scaled and reduced data. I have created two separate files for this step, differing on which algorithm they use (Random Forest Regressor vs. Support Vector Regressor). These are designed to work completely separate from one another, and only running one of the two is necessary, but it is helpful to run both and compare them."
   ]
  },
  {
   "cell_type": "code",
   "execution_count": 68,
   "metadata": {},
   "outputs": [],
   "source": [
    "import numpy as np\n",
    "import pandas as pd\n",
    "import matplotlib.pyplot as plt\n",
    "from sklearn import metrics\n",
    "from sklearn.ensemble import RandomForestRegressor\n",
    "from sklearn.model_selection import train_test_split, KFold, cross_val_score, cross_val_predict, GridSearchCV"
   ]
  },
  {
   "cell_type": "code",
   "execution_count": 87,
   "metadata": {},
   "outputs": [],
   "source": [
    "class RFregressor:\n",
    "    \n",
    "    '''\n",
    "        INIT FUNCTION:\n",
    "        \n",
    "        -- This __init__ function is slightly different from the ones used in KNN Imputation, PCA, and UMAP.\n",
    "        \n",
    "        -- In addition to specifying \"IDs\", specify an outcome variable to predict. \"IDs\" should still include this variable.\n",
    "        \n",
    "        -- self.X is an array containing all the data except the IDs; self.y is an array of the values of the outcome variable.\n",
    "    '''\n",
    "    \n",
    "    def __init__(self, datafile, outcome, nonfeatures = []):\n",
    "        self.df = pd.read_csv(datafile)\n",
    "        self.X = np.array(self.df.drop(nonfeatures, 1))\n",
    "        self.y = np.array(self.df[outcome])\n",
    "        self.Xdf = pd.DataFrame(self.X)\n",
    "        self.ydf = pd.DataFrame(self.y)\n",
    "        self.scoring_options = sorted(metrics.SCORERS.keys())\n",
    "        \n",
    "    '''\n",
    "        GRID_SEARCH METHOD:\n",
    "        \n",
    "        --Specify scoring method and number of folds.\n",
    "        \n",
    "        --Also specify lists or ranges of values for paramters max_depth and n_estimators\n",
    "        \n",
    "        --The grid search\n",
    "    '''\n",
    "    \n",
    "    def grid_search(self, scoring, max_depth=[], n_estimators=[], cv=[]):\n",
    "        self.gsc = GridSearchCV(\n",
    "                estimator=RandomForestRegressor(random_state=42),\n",
    "                param_grid={\n",
    "                    'max_depth': max_depth,\n",
    "                    'n_estimators': n_estimators,\n",
    "                },\n",
    "                cv=cv, scoring=scoring, verbose=0,n_jobs=-1,)\n",
    "        self.grid_result = self.gsc.fit(self.X, self.y)\n",
    "        self.best_params = self.grid_result.best_params_\n",
    "        print(self.best_params)\n",
    "        \n",
    "    '''\n",
    "        REGRESS METHOD:\n",
    "        \n",
    "        --Specify a scoring method and a number of folds for cross-validation.\n",
    "        \n",
    "        --The model uses the best parameters from the grid_search method.\n",
    "        \n",
    "        --self.predictions outputs predicted values; self-scores outputs specified metrics of model performance.\n",
    "    '''    \n",
    "    \n",
    "    def regress(self, scoring, cv=[]):\n",
    "        self.rf_model = RandomForestRegressor(max_depth=best_params[\"max_depth\"], n_estimators=best_params[\"n_estimators\"], random_state=42, verbose=False)\n",
    "        self.predictions = cross_val_predict(self.rf_model, self.X, self.y, cv=cv)\n",
    "        self.scores = cross_val_score(self.rf_model, self.X, self.y, cv=cv, scoring=scoring)\n",
    "        print(self.scores)\n",
    "        \n",
    "    '''\n",
    "        IMPORTANCE METHOD:\n",
    "        \n",
    "        --Outputs and visualizes feature importances \n",
    "    '''\n",
    "    \n",
    "    def importance(self):\n",
    "        self.rf_model.fit(self.X, self.y)\n",
    "        self.importance = self.rf_model.feature_importances_\n",
    "        plt.bar([x for x in range(len(self.importance))], self.importance)\n",
    "        plt.title('Feature Importances')\n",
    "        plt.show()"
   ]
  },
  {
   "cell_type": "code",
   "execution_count": 97,
   "metadata": {},
   "outputs": [],
   "source": [
    "def avg(lst): \n",
    "    return sum(lst) / len(lst)"
   ]
  },
  {
   "cell_type": "code",
   "execution_count": 93,
   "metadata": {},
   "outputs": [
    {
     "name": "stdout",
     "output_type": "stream",
     "text": [
      "{'max_depth': 2, 'n_estimators': 80}\n",
      "[-0.72983575 -0.8198394  -0.70196415 -0.77375166 -0.70414213]\n",
      "[-0.22888388 -0.3050032  -0.03308863  0.04266913 -0.03772076]\n"
     ]
    }
   ],
   "source": [
    "#Inputting PCA data for this example\n",
    "#Outcome variable is presence, IDs are presence and labvisitid\n",
    "RFR1 = RFregressor(\"SCALED_PCA_DATA.csv\", 'presence', nonfeatures = ['labvisitid', 'presence'])\n",
    "\n",
    "#Grid search with ranges/lists of potential values\n",
    "#I did some trial and error to get good lists/ranges\n",
    "RFR1.grid_search('neg_mean_squared_error', max_depth=range(2,4), n_estimators=(70,80,90,100), cv=5)\n",
    "\n",
    "#Outputting an array of (negative) root mean squared error and R^2 for each fold\n",
    "#For some reason, sklearn outputs negative values for mean squared error and some related metrics,...\n",
    "#...so they changed the name to 'neg_root_mean_squared_error'\n",
    "RFR1.regress('neg_root_mean_squared_error', cv = 5)\n",
    "RFR_RMSE = RFR1.scores\n",
    "RFR1.regress('r2', cv = 5)\n",
    "RFR_R2 = RFR1.scores"
   ]
  },
  {
   "cell_type": "code",
   "execution_count": 99,
   "metadata": {},
   "outputs": [
    {
     "name": "stdout",
     "output_type": "stream",
     "text": [
      "RFR RMSE: [-0.72983575 -0.8198394  -0.70196415 -0.77375166 -0.70414213]\n",
      "RFR R^2: [-0.22888388 -0.3050032  -0.03308863  0.04266913 -0.03772076]\n",
      "Average RFR RMSE: -0.745906617200745\n",
      "Average RFR R^2: -0.11240546859344087\n"
     ]
    }
   ],
   "source": [
    "print(\"RFR RMSE:\", RFR_RMSE)\n",
    "print(\"RFR R^2:\", RFR_R2)\n",
    "RMSEavg = avg(RFR_RMSE)\n",
    "R2avg = avg(RFR_R2)\n",
    "print(\"Average RFR RMSE:\", RMSEavg)\n",
    "print(\"Average RFR R^2:\", R2avg)"
   ]
  },
  {
   "cell_type": "code",
   "execution_count": 90,
   "metadata": {},
   "outputs": [
    {
     "data": {
      "image/png": "[encoded data removed]",
      "text/plain": [
       "<Figure size 432x288 with 1 Axes>"
      ]
     },
     "metadata": {
      "needs_background": "light"
     },
     "output_type": "display_data"
    }
   ],
   "source": [
    "#Visualizing feature importance\n",
    "RFR1.importance()"
   ]
  },
  {
   "cell_type": "code",
   "execution_count": 89,
   "metadata": {},
   "outputs": [
    {
     "data": {
      "text/plain": [
       "['accuracy',\n",
       " 'adjusted_mutual_info_score',\n",
       " 'adjusted_rand_score',\n",
       " 'average_precision',\n",
       " 'balanced_accuracy',\n",
       " 'completeness_score',\n",
       " 'explained_variance',\n",
       " 'f1',\n",
       " 'f1_macro',\n",
       " 'f1_micro',\n",
       " 'f1_samples',\n",
       " 'f1_weighted',\n",
       " 'fowlkes_mallows_score',\n",
       " 'homogeneity_score',\n",
       " 'jaccard',\n",
       " 'jaccard_macro',\n",
       " 'jaccard_micro',\n",
       " 'jaccard_samples',\n",
       " 'jaccard_weighted',\n",
       " 'max_error',\n",
       " 'mutual_info_score',\n",
       " 'neg_brier_score',\n",
       " 'neg_log_loss',\n",
       " 'neg_mean_absolute_error',\n",
       " 'neg_mean_gamma_deviance',\n",
       " 'neg_mean_poisson_deviance',\n",
       " 'neg_mean_squared_error',\n",
       " 'neg_mean_squared_log_error',\n",
       " 'neg_median_absolute_error',\n",
       " 'neg_root_mean_squared_error',\n",
       " 'normalized_mutual_info_score',\n",
       " 'precision',\n",
       " 'precision_macro',\n",
       " 'precision_micro',\n",
       " 'precision_samples',\n",
       " 'precision_weighted',\n",
       " 'r2',\n",
       " 'recall',\n",
       " 'recall_macro',\n",
       " 'recall_micro',\n",
       " 'recall_samples',\n",
       " 'recall_weighted',\n",
       " 'roc_auc',\n",
       " 'roc_auc_ovo',\n",
       " 'roc_auc_ovo_weighted',\n",
       " 'roc_auc_ovr',\n",
       " 'roc_auc_ovr_weighted',\n",
       " 'v_measure_score']"
      ]
     },
     "execution_count": 89,
     "metadata": {},
     "output_type": "execute_result"
    }
   ],
   "source": [
    "#A list of options for the scoring function\n",
    "RFR1.scoring_options"
   ]
  }
 ],
 "metadata": {
  "kernelspec": {
   "display_name": "Python 3",
   "language": "python",
   "name": "python3"
  },
  "language_info": {
   "codemirror_mode": {
    "name": "ipython",
    "version": 3
   },
   "file_extension": ".py",
   "mimetype": "text/x-python",
   "name": "python",
   "nbconvert_exporter": "python",
   "pygments_lexer": "ipython3",
   "version": "3.7.3"
  }
 },
 "nbformat": 4,
 "nbformat_minor": 4
}

{
 "cells": [
  {
   "cell_type": "code",
   "execution_count": 8,
   "metadata": {},
   "outputs": [],
   "source": [
    "import pandas as pd \n",
    "import numpy as np \n",
    "import matplotlib.pyplot as plt \n",
    "from sklearn.decomposition import PCA \n",
    "from sklearn.preprocessing import MinMaxScaler\n",
    "import seaborn as sns\n",
    "pd.options.display.max_rows=10\n",
    "pd.options.display.max_columns=6"
   ]
  },
  {
   "cell_type": "code",
   "execution_count": 9,
   "metadata": {},
   "outputs": [],
   "source": [
    "class PCA_class:\n",
    "\n",
    "    def __init__(self, datafile, IDs = []):\n",
    "        self.data = pd.read_csv(datafile)\n",
    "        self.IDs = IDs\n",
    "        self.IDdf = self.data.filter(IDs)\n",
    "        self.nonIDdf = pd.DataFrame(self.data.drop(self.IDs, axis=1))\n",
    "        \n",
    "    def analysis(self, n_components = []):\n",
    "        self.pca = PCA(n_components)\n",
    "        self.pComps = self.pca.fit_transform(self.nonIDdf)\n",
    "        self.evr = self.pca.explained_variance_ratio_\n",
    "        \n",
    "    def scree(self):\n",
    "        plt.plot(np.cumsum(self.evr))\n",
    "        plt.xlabel('number of components')\n",
    "        plt.ylabel('cumulative explained variance')\n",
    "        plt.show()\n",
    "\n",
    "    def df_create(self, num_pcs = []):\n",
    "        \n",
    "        def prepend(list, str): \n",
    "            str += '{0}'\n",
    "            list = [str.format(i) for i in list] \n",
    "            return(list) \n",
    "        \n",
    "        self.rangemax = num_pcs+1\n",
    "        self.pclist = list(range(1,self.rangemax))\n",
    "        self.pcstr = \"PC\"\n",
    "        self.pccols = prepend(self.pclist, self.pcstr)\n",
    "        self.pCompsdf = pd.DataFrame(data = self.pComps, columns = self.pccols)\n",
    "        self.concatlist = [self.IDdf, self.pCompsdf]\n",
    "        self.pcadf = pd.concat(self.concatlist, axis=1)\n",
    "        \n",
    "    def scale(self, scaler):\n",
    "        self.scaler = scaler\n",
    "        self.scaled_pCompsdf = pd.DataFrame(self.scaler.fit_transform(self.pCompsdf))\n",
    "        self.scaled_concatlist = [self.IDdf, self.scaled_pCompsdf]\n",
    "        self.scaled_pcadf = pd.concat(self.scaled_concatlist, axis=1)\n",
    "        self.scaled_pcadf.columns = self.pcadf.columns"
   ]
  },
  {
   "cell_type": "code",
   "execution_count": 10,
   "metadata": {},
   "outputs": [],
   "source": [
    "pca = PCA_class(\"SCALED_NONAN_DATA.csv\", IDs = ['labvisitid', 'presence'])\n",
    "pca.analysis(n_components=.85)\n",
    "pca.df_create(num_pcs=56)\n",
    "pca.scale(MinMaxScaler())\n",
    "pca.scaled_pcadf.to_csv(\"SCALED_PCA_DATA.csv\", index=False)"
   ]
  },
  {
   "cell_type": "code",
   "execution_count": 11,
   "metadata": {},
   "outputs": [
    {
     "data": {
      "image/png": "[encoded data removed]",
      "text/plain": [
       "<Figure size 432x288 with 1 Axes>"
      ]
     },
     "metadata": {
      "needs_background": "light"
     },
     "output_type": "display_data"
    }
   ],
   "source": [
    "pca.scree()"
   ]
  },
  {
   "cell_type": "code",
   "execution_count": null,
   "metadata": {},
   "outputs": [],
   "source": []
  }
 ],
 "metadata": {
  "kernelspec": {
   "display_name": "Python 3",
   "language": "python",
   "name": "python3"
  },
  "language_info": {
   "codemirror_mode": {
    "name": "ipython",
    "version": 3
   },
   "file_extension": ".py",
   "mimetype": "text/x-python",
   "name": "python",
   "nbconvert_exporter": "python",
   "pygments_lexer": "ipython3",
   "version": "3.7.3"
  }
 },
 "nbformat": 4,
 "nbformat_minor": 4
}
